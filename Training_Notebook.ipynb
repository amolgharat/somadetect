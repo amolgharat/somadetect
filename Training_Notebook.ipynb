{
 "cells": [
  {
   "cell_type": "markdown",
   "metadata": {},
   "source": [
    "## Imports"
   ]
  },
  {
   "cell_type": "code",
   "execution_count": 1,
   "metadata": {},
   "outputs": [
    {
     "name": "stderr",
     "output_type": "stream",
     "text": [
      "Using TensorFlow backend.\n"
     ]
    }
   ],
   "source": [
    "import os\n",
    "import random\n",
    "import csv\n",
    "\n",
    "import numpy as np\n",
    "from PIL import Image\n",
    "from matplotlib import pyplot as plt\n",
    "\n",
    "import keras\n",
    "from keras.utils import to_categorical\n",
    "from keras.models import Model\n",
    "from keras.optimizers import Adam\n",
    "from keras import metrics\n",
    "from keras import regularizers\n",
    "from keras.layers import Dense, AveragePooling2D, Flatten\n",
    "from keras.layers import Input, concatenate, Conv2D, BatchNormalization, Activation\n",
    "\n",
    "from sklearn.utils import class_weight"
   ]
  },
  {
   "cell_type": "markdown",
   "metadata": {},
   "source": [
    "## Select GPU"
   ]
  },
  {
   "cell_type": "code",
   "execution_count": 2,
   "metadata": {},
   "outputs": [],
   "source": [
    "os.environ[\"CUDA_VISIBLE_DEVICES\"]=\"4\""
   ]
  },
  {
   "cell_type": "markdown",
   "metadata": {},
   "source": [
    "## Data path"
   ]
  },
  {
   "cell_type": "code",
   "execution_count": null,
   "metadata": {},
   "outputs": [],
   "source": [
    "data_path = 'data/data_package01/sensor-01/scc/'"
   ]
  },
  {
   "cell_type": "code",
   "execution_count": null,
   "metadata": {},
   "outputs": [],
   "source": [
    "class_names = ['SCC_below_56', 'SCC_56-132', 'SCC_above_132']"
   ]
  },
  {
   "cell_type": "markdown",
   "metadata": {},
   "source": [
    "## Processing data"
   ]
  },
  {
   "cell_type": "code",
   "execution_count": null,
   "metadata": {},
   "outputs": [],
   "source": [
    "def get_unq_id(images_list):\n",
    "    id_list = []\n",
    "    for image_name in images_list:\n",
    "        id_list.append(image_name[:-6])    \n",
    "    unq_id_list = list(set(id_list))\n",
    "    return unq_id_list"
   ]
  },
  {
   "cell_type": "code",
   "execution_count": null,
   "metadata": {},
   "outputs": [],
   "source": [
    "unq_data_dict = {}\n",
    "class_map = {}\n",
    "for i, class_name in enumerate(class_names):\n",
    "    print class_name\n",
    "    class_map[i] = class_name\n",
    "    images_list = os.listdir(os.path.join(data_path, class_name))\n",
    "    unq_id_list = get_unq_id(images_list)\n",
    "    unq_data_dict[i] = unq_id_list"
   ]
  },
  {
   "cell_type": "markdown",
   "metadata": {},
   "source": [
    "## Stratified splitting into Train and Val set"
   ]
  },
  {
   "cell_type": "code",
   "execution_count": null,
   "metadata": {},
   "outputs": [],
   "source": [
    "val_fraction = 0.2 #fraction of data to be used for validation"
   ]
  },
  {
   "cell_type": "code",
   "execution_count": null,
   "metadata": {},
   "outputs": [],
   "source": [
    "unq_train_data_dict = {}\n",
    "unq_val_data_dict = {}\n",
    "## Since we have 5 images from same sample. It is not good to have some images in \n",
    "## train and other in val for the sample. So train and val split is done based on sample ID.\n",
    "for class_number, unq_id_list in unq_data_dict.items():\n",
    "    total_ids = len(unq_id_list)\n",
    "    num_train_ids = int((1-val_fraction)*total_ids)\n",
    "    num_val_ids = total_ids - num_train_ids\n",
    "    \n",
    "    train_id_list = random.sample(unq_id_list, num_train_ids)\n",
    "    val_id_list = []\n",
    "    for unq_id in unq_id_list:\n",
    "        if unq_id not in train_id_list:\n",
    "            val_id_list.append(unq_id)\n",
    "    \n",
    "    unq_train_data_dict[class_number] = train_id_list\n",
    "    unq_val_data_dict[class_number] = val_id_list"
   ]
  },
  {
   "cell_type": "code",
   "execution_count": null,
   "metadata": {},
   "outputs": [],
   "source": [
    "trainX = []\n",
    "valX = []\n",
    "trainY = []\n",
    "valY = []"
   ]
  },
  {
   "cell_type": "code",
   "execution_count": null,
   "metadata": {},
   "outputs": [],
   "source": [
    "## Images are resized to 640x240.\n",
    "\n",
    "for class_number, unq_id_list in unq_train_data_dict.items():\n",
    "    class_name = class_map[class_number]\n",
    "    for unq_id in unq_id_list:\n",
    "        for i in range(5):\n",
    "            img_name = unq_id + \"_\"+ str(i)+ \".png\"\n",
    "            \n",
    "            img_path = os.path.join(data_path, class_name,img_name)\n",
    "            img = Image.open(img_path)\n",
    "            img = img.resize(size=(640,240))\n",
    "            img_array = np.asarray(img)\n",
    "            \n",
    "            trainX.append(img_array)\n",
    "            trainY.append(class_number)"
   ]
  },
  {
   "cell_type": "code",
   "execution_count": null,
   "metadata": {},
   "outputs": [],
   "source": [
    "# Randomly shuffle training data\n",
    "c = list(zip(trainX, trainY))\n",
    "random.shuffle(c)\n",
    "trainX, trainY = zip(*c)"
   ]
  },
  {
   "cell_type": "code",
   "execution_count": null,
   "metadata": {},
   "outputs": [],
   "source": [
    "for class_number, unq_id_list in unq_val_data_dict.items():\n",
    "    class_name = class_map[class_number]\n",
    "    for unq_id in unq_id_list:\n",
    "        for i in range(5):\n",
    "            img_name = unq_id + \"_\"+ str(i)+ \".png\"\n",
    "            \n",
    "            img_path = os.path.join(data_path, class_name,img_name)\n",
    "            img = Image.open(img_path)\n",
    "            img = img.resize(size=(640,240))\n",
    "            img_array = np.asarray(img)\n",
    "            \n",
    "            valX.append(img_array)\n",
    "            valY.append(class_number)"
   ]
  },
  {
   "cell_type": "code",
   "execution_count": null,
   "metadata": {},
   "outputs": [],
   "source": [
    "## compute class weights to account for label imbalance\n",
    "\n",
    "class_weights = class_weight.compute_class_weight('balanced',\n",
    "                                                 np.unique(trainY),\n",
    "                                                 trainY)"
   ]
  },
  {
   "cell_type": "code",
   "execution_count": null,
   "metadata": {},
   "outputs": [],
   "source": [
    "# convert the labels from integers to vectors\n",
    "trainY = to_categorical(trainY, num_classes=3)\n",
    "valY = to_categorical(valY, num_classes=3)"
   ]
  },
  {
   "cell_type": "code",
   "execution_count": null,
   "metadata": {},
   "outputs": [],
   "source": [
    "trainX = np.asarray(trainX)\n",
    "valX = np.asarray(valX)"
   ]
  },
  {
   "cell_type": "code",
   "execution_count": null,
   "metadata": {},
   "outputs": [],
   "source": [
    "# save data in numpy array for later use\n",
    "np.savez(\"train_val_data_v3.npz\", trainX, trainY, valX, valY, class_weights)"
   ]
  },
  {
   "cell_type": "markdown",
   "metadata": {},
   "source": []
  },
  {
   "cell_type": "code",
   "execution_count": 4,
   "metadata": {},
   "outputs": [],
   "source": [
    "## load data if it is already saved\n",
    "\n",
    "# data = np.load(\"train_val_data_v3.npz\")\n",
    "# trainX = data[\"arr_0\"]\n",
    "# trainY = data[\"arr_1\"]\n",
    "# valX = data[\"arr_2\"]\n",
    "# valY = data[\"arr_3\"]\n",
    "# class_weights = data[\"arr_4\"]"
   ]
  },
  {
   "cell_type": "markdown",
   "metadata": {},
   "source": [
    "# preprocess image data : subtract mean and scale std\n"
   ]
  },
  {
   "cell_type": "code",
   "execution_count": null,
   "metadata": {},
   "outputs": [],
   "source": [
    "## We train a model with two inputs. One for processing LED part of the images and other for processing laser part.\n",
    "## hence we separate each image into two parts and then preprocess them."
   ]
  },
  {
   "cell_type": "code",
   "execution_count": 5,
   "metadata": {},
   "outputs": [],
   "source": [
    "trainX_blue = trainX[:,:,:320,:]\n",
    "trainX_red = trainX[:,:,320:,:]"
   ]
  },
  {
   "cell_type": "code",
   "execution_count": 6,
   "metadata": {},
   "outputs": [],
   "source": [
    "valX_blue = valX[:,:,:320,:]\n",
    "valX_red = valX[:,:,320:,:]"
   ]
  },
  {
   "cell_type": "code",
   "execution_count": 7,
   "metadata": {},
   "outputs": [],
   "source": [
    "def preprocess_train_data(X):\n",
    "    # subtract channel mean and divide by standard deviation\n",
    "    X = X.astype(float)\n",
    "    mean_X = np.mean(X, axis = (0,1,2))\n",
    "    X -= mean_X\n",
    "    std_X = np.std(X, axis = (0,1,2))\n",
    "    X /= std_X\n",
    "    return X, mean_X, std_X"
   ]
  },
  {
   "cell_type": "code",
   "execution_count": 8,
   "metadata": {},
   "outputs": [],
   "source": [
    "def preprocess_val_data(X, mean_X, std_X):\n",
    "    # preprocess validation data using mean and std from train data\n",
    "    X = X.astype(float)\n",
    "    X -= mean_X\n",
    "    X /= std_X\n",
    "    return X"
   ]
  },
  {
   "cell_type": "code",
   "execution_count": 9,
   "metadata": {},
   "outputs": [],
   "source": [
    "trainX_blue_normalized, mean_blue, std_blue = preprocess_train_data(trainX_blue)\n",
    "trainX_red_normalized, mean_red, std_red = preprocess_train_data(trainX_red)"
   ]
  },
  {
   "cell_type": "code",
   "execution_count": 10,
   "metadata": {},
   "outputs": [],
   "source": [
    "valX_blue = preprocess_val_data(valX_blue, mean_blue, std_blue)\n",
    "valX_red = preprocess_val_data(valX_red, mean_red, std_red)"
   ]
  },
  {
   "cell_type": "markdown",
   "metadata": {},
   "source": [
    "## Prepare Model"
   ]
  },
  {
   "cell_type": "code",
   "execution_count": 11,
   "metadata": {},
   "outputs": [],
   "source": [
    "# weight l2 regularization to avoid overfitting of the model\n",
    "l2_reg = regularizers.l2(0.1)"
   ]
  },
  {
   "cell_type": "code",
   "execution_count": null,
   "metadata": {},
   "outputs": [],
   "source": [
    "## Given only couple thousand images for training, a very shallow model with few thousand parameters was trained.\n",
    "# The model has two parallel streams that have identical architecture for processing red and blue part of the image."
   ]
  },
  {
   "cell_type": "code",
   "execution_count": 12,
   "metadata": {},
   "outputs": [],
   "source": [
    "input_1 = Input(shape=(240,320,3), name='input1')\n",
    "input_2 = Input(shape=(240,320,3), name='input2')"
   ]
  },
  {
   "cell_type": "code",
   "execution_count": 13,
   "metadata": {},
   "outputs": [],
   "source": [
    "x= Conv2D(4, kernel_size=(3,3), kernel_regularizer=l2_reg)(input_1)\n",
    "x = BatchNormalization()(x)\n",
    "x = Activation('relu')(x)\n",
    "\n",
    "x= Conv2D(4, kernel_size=(3,3), kernel_regularizer=l2_reg)(x)\n",
    "x = BatchNormalization()(x)\n",
    "x = Activation('relu')(x)\n",
    "\n",
    "x = AveragePooling2D(pool_size=(2,2))(x)\n",
    "\n",
    "x= Conv2D(8, kernel_size=(3,3), kernel_regularizer=l2_reg)(x)\n",
    "x = BatchNormalization()(x)\n",
    "x = Activation('relu')(x)\n",
    "\n",
    "x = AveragePooling2D(pool_size=(2,2))(x)\n",
    "\n",
    "x= Conv2D(8, kernel_size=(3,3), kernel_regularizer=l2_reg)(x)\n",
    "x = BatchNormalization()(x)\n",
    "x = Activation('relu')(x)\n",
    "\n",
    "x = AveragePooling2D(pool_size=(2,2))(x)\n",
    "\n",
    "x= Conv2D(8, kernel_size=(3,3), kernel_regularizer=l2_reg)(x)\n",
    "x = BatchNormalization()(x)\n",
    "x = Activation('relu')(x)\n",
    "\n",
    "x = AveragePooling2D(pool_size=(2,2))(x)\n",
    "output_1 = Flatten()(x)"
   ]
  },
  {
   "cell_type": "code",
   "execution_count": 14,
   "metadata": {},
   "outputs": [],
   "source": [
    "x= Conv2D(4, kernel_size=(3,3), kernel_regularizer=l2_reg)(input_2)\n",
    "x = BatchNormalization()(x)\n",
    "x = Activation('relu')(x)\n",
    "\n",
    "x= Conv2D(4, kernel_size=(3,3), kernel_regularizer=l2_reg)(x)\n",
    "x = BatchNormalization()(x)\n",
    "x = Activation('relu')(x)\n",
    "\n",
    "x = AveragePooling2D(pool_size=(2,2))(x)\n",
    "\n",
    "x= Conv2D(8, kernel_size=(3,3), kernel_regularizer=l2_reg)(x)\n",
    "x = BatchNormalization()(x)\n",
    "x = Activation('relu')(x)\n",
    "\n",
    "x = AveragePooling2D(pool_size=(2,2))(x)\n",
    "\n",
    "x= Conv2D(8, kernel_size=(3,3), kernel_regularizer=l2_reg)(x)\n",
    "x = BatchNormalization()(x)\n",
    "x = Activation('relu')(x)\n",
    "\n",
    "x = AveragePooling2D(pool_size=(2,2))(x)\n",
    "\n",
    "x= Conv2D(8, kernel_size=(3,3), kernel_regularizer=l2_reg)(x)\n",
    "x = BatchNormalization()(x)\n",
    "x = Activation('relu')(x)\n",
    "\n",
    "x = AveragePooling2D(pool_size=(2,2))(x)\n",
    "output_2 = Flatten()(x)"
   ]
  },
  {
   "cell_type": "code",
   "execution_count": 15,
   "metadata": {},
   "outputs": [],
   "source": [
    "# combine outputs from two streams\n",
    "\n",
    "x = concatenate([output_1, output_2])\n",
    "output = Dense(3, activation='softmax', kernel_regularizer=l2_reg)(x) # 3 class model"
   ]
  },
  {
   "cell_type": "code",
   "execution_count": 16,
   "metadata": {},
   "outputs": [],
   "source": [
    "model = Model(inputs=[input_1, input_2], outputs=output)"
   ]
  },
  {
   "cell_type": "code",
   "execution_count": 17,
   "metadata": {
    "collapsed": true
   },
   "outputs": [
    {
     "name": "stdout",
     "output_type": "stream",
     "text": [
      "__________________________________________________________________________________________________\n",
      "Layer (type)                    Output Shape         Param #     Connected to                     \n",
      "==================================================================================================\n",
      "input1 (InputLayer)             (None, 240, 320, 3)  0                                            \n",
      "__________________________________________________________________________________________________\n",
      "input2 (InputLayer)             (None, 240, 320, 3)  0                                            \n",
      "__________________________________________________________________________________________________\n",
      "conv2d_1 (Conv2D)               (None, 238, 318, 4)  112         input1[0][0]                     \n",
      "__________________________________________________________________________________________________\n",
      "conv2d_6 (Conv2D)               (None, 238, 318, 4)  112         input2[0][0]                     \n",
      "__________________________________________________________________________________________________\n",
      "batch_normalization_1 (BatchNor (None, 238, 318, 4)  16          conv2d_1[0][0]                   \n",
      "__________________________________________________________________________________________________\n",
      "batch_normalization_6 (BatchNor (None, 238, 318, 4)  16          conv2d_6[0][0]                   \n",
      "__________________________________________________________________________________________________\n",
      "activation_1 (Activation)       (None, 238, 318, 4)  0           batch_normalization_1[0][0]      \n",
      "__________________________________________________________________________________________________\n",
      "activation_6 (Activation)       (None, 238, 318, 4)  0           batch_normalization_6[0][0]      \n",
      "__________________________________________________________________________________________________\n",
      "conv2d_2 (Conv2D)               (None, 236, 316, 4)  148         activation_1[0][0]               \n",
      "__________________________________________________________________________________________________\n",
      "conv2d_7 (Conv2D)               (None, 236, 316, 4)  148         activation_6[0][0]               \n",
      "__________________________________________________________________________________________________\n",
      "batch_normalization_2 (BatchNor (None, 236, 316, 4)  16          conv2d_2[0][0]                   \n",
      "__________________________________________________________________________________________________\n",
      "batch_normalization_7 (BatchNor (None, 236, 316, 4)  16          conv2d_7[0][0]                   \n",
      "__________________________________________________________________________________________________\n",
      "activation_2 (Activation)       (None, 236, 316, 4)  0           batch_normalization_2[0][0]      \n",
      "__________________________________________________________________________________________________\n",
      "activation_7 (Activation)       (None, 236, 316, 4)  0           batch_normalization_7[0][0]      \n",
      "__________________________________________________________________________________________________\n",
      "average_pooling2d_1 (AveragePoo (None, 118, 158, 4)  0           activation_2[0][0]               \n",
      "__________________________________________________________________________________________________\n",
      "average_pooling2d_5 (AveragePoo (None, 118, 158, 4)  0           activation_7[0][0]               \n",
      "__________________________________________________________________________________________________\n",
      "conv2d_3 (Conv2D)               (None, 116, 156, 8)  296         average_pooling2d_1[0][0]        \n",
      "__________________________________________________________________________________________________\n",
      "conv2d_8 (Conv2D)               (None, 116, 156, 8)  296         average_pooling2d_5[0][0]        \n",
      "__________________________________________________________________________________________________\n",
      "batch_normalization_3 (BatchNor (None, 116, 156, 8)  32          conv2d_3[0][0]                   \n",
      "__________________________________________________________________________________________________\n",
      "batch_normalization_8 (BatchNor (None, 116, 156, 8)  32          conv2d_8[0][0]                   \n",
      "__________________________________________________________________________________________________\n",
      "activation_3 (Activation)       (None, 116, 156, 8)  0           batch_normalization_3[0][0]      \n",
      "__________________________________________________________________________________________________\n",
      "activation_8 (Activation)       (None, 116, 156, 8)  0           batch_normalization_8[0][0]      \n",
      "__________________________________________________________________________________________________\n",
      "average_pooling2d_2 (AveragePoo (None, 58, 78, 8)    0           activation_3[0][0]               \n",
      "__________________________________________________________________________________________________\n",
      "average_pooling2d_6 (AveragePoo (None, 58, 78, 8)    0           activation_8[0][0]               \n",
      "__________________________________________________________________________________________________\n",
      "conv2d_4 (Conv2D)               (None, 56, 76, 8)    584         average_pooling2d_2[0][0]        \n",
      "__________________________________________________________________________________________________\n",
      "conv2d_9 (Conv2D)               (None, 56, 76, 8)    584         average_pooling2d_6[0][0]        \n",
      "__________________________________________________________________________________________________\n",
      "batch_normalization_4 (BatchNor (None, 56, 76, 8)    32          conv2d_4[0][0]                   \n",
      "__________________________________________________________________________________________________\n",
      "batch_normalization_9 (BatchNor (None, 56, 76, 8)    32          conv2d_9[0][0]                   \n",
      "__________________________________________________________________________________________________\n",
      "activation_4 (Activation)       (None, 56, 76, 8)    0           batch_normalization_4[0][0]      \n",
      "__________________________________________________________________________________________________\n",
      "activation_9 (Activation)       (None, 56, 76, 8)    0           batch_normalization_9[0][0]      \n",
      "__________________________________________________________________________________________________\n",
      "average_pooling2d_3 (AveragePoo (None, 28, 38, 8)    0           activation_4[0][0]               \n",
      "__________________________________________________________________________________________________\n",
      "average_pooling2d_7 (AveragePoo (None, 28, 38, 8)    0           activation_9[0][0]               \n",
      "__________________________________________________________________________________________________\n",
      "conv2d_5 (Conv2D)               (None, 26, 36, 8)    584         average_pooling2d_3[0][0]        \n",
      "__________________________________________________________________________________________________\n",
      "conv2d_10 (Conv2D)              (None, 26, 36, 8)    584         average_pooling2d_7[0][0]        \n",
      "__________________________________________________________________________________________________\n",
      "batch_normalization_5 (BatchNor (None, 26, 36, 8)    32          conv2d_5[0][0]                   \n",
      "__________________________________________________________________________________________________\n",
      "batch_normalization_10 (BatchNo (None, 26, 36, 8)    32          conv2d_10[0][0]                  \n",
      "__________________________________________________________________________________________________\n",
      "activation_5 (Activation)       (None, 26, 36, 8)    0           batch_normalization_5[0][0]      \n",
      "__________________________________________________________________________________________________\n",
      "activation_10 (Activation)      (None, 26, 36, 8)    0           batch_normalization_10[0][0]     \n",
      "__________________________________________________________________________________________________\n",
      "average_pooling2d_4 (AveragePoo (None, 13, 18, 8)    0           activation_5[0][0]               \n",
      "__________________________________________________________________________________________________\n",
      "average_pooling2d_8 (AveragePoo (None, 13, 18, 8)    0           activation_10[0][0]              \n",
      "__________________________________________________________________________________________________\n",
      "flatten_1 (Flatten)             (None, 1872)         0           average_pooling2d_4[0][0]        \n",
      "__________________________________________________________________________________________________\n",
      "flatten_2 (Flatten)             (None, 1872)         0           average_pooling2d_8[0][0]        \n",
      "__________________________________________________________________________________________________\n",
      "concatenate_1 (Concatenate)     (None, 3744)         0           flatten_1[0][0]                  \n",
      "                                                                 flatten_2[0][0]                  \n",
      "__________________________________________________________________________________________________\n",
      "dense_1 (Dense)                 (None, 3)            11235       concatenate_1[0][0]              \n",
      "==================================================================================================\n",
      "Total params: 14,939\n",
      "Trainable params: 14,811\n",
      "Non-trainable params: 128\n",
      "__________________________________________________________________________________________________\n"
     ]
    }
   ],
   "source": [
    "model.summary()"
   ]
  },
  {
   "cell_type": "code",
   "execution_count": 18,
   "metadata": {},
   "outputs": [],
   "source": [
    "# cross entropy loss function is used because it is a multiclass model.\n",
    "model.compile(optimizer=Adam(lr=0.0001), loss='categorical_crossentropy', metrics=['acc'])"
   ]
  },
  {
   "cell_type": "code",
   "execution_count": 19,
   "metadata": {},
   "outputs": [],
   "source": [
    "# callbacks to checkpoint models, save logs and early stopping to monitor val loss\n",
    "\n",
    "checkpoint_callback = keras.callbacks.ModelCheckpoint(\"exp4/weights.{epoch:02d}.hdf5\", monitor='val_loss', verbose=0, save_best_only=False, save_weights_only=False, mode='auto', period=1)\n",
    "csvlogger_callback = keras.callbacks.CSVLogger(\"exp4/logs.csv\", separator=',', append=False)\n",
    "earlystopping_callback = keras.callbacks.EarlyStopping(monitor='val_loss', min_delta=0, patience=50, verbose=0, mode='auto', baseline=None)\n",
    "\n",
    "callbacks = [checkpoint_callback, csvlogger_callback, earlystopping_callback]"
   ]
  },
  {
   "cell_type": "code",
   "execution_count": 20,
   "metadata": {},
   "outputs": [
    {
     "name": "stdout",
     "output_type": "stream",
     "text": [
      "Train on 1920 samples, validate on 490 samples\n",
      "Epoch 1/1000\n",
      "1920/1920 [==============================] - 60s 31ms/step - loss: 5.2683 - acc: 0.5755 - val_loss: 3.9790 - val_acc: 0.5673\n",
      "Epoch 2/1000\n",
      "1920/1920 [==============================] - 57s 30ms/step - loss: 3.2885 - acc: 0.5719 - val_loss: 2.8429 - val_acc: 0.5531\n",
      "Epoch 3/1000\n",
      "1920/1920 [==============================] - 57s 30ms/step - loss: 2.4571 - acc: 0.5849 - val_loss: 2.2653 - val_acc: 0.5449\n",
      "Epoch 4/1000\n",
      "1920/1920 [==============================] - 57s 30ms/step - loss: 2.0291 - acc: 0.5797 - val_loss: 1.9732 - val_acc: 0.5612\n",
      "Epoch 5/1000\n",
      "1920/1920 [==============================] - 57s 30ms/step - loss: 1.7565 - acc: 0.5865 - val_loss: 1.8153 - val_acc: 0.5673\n",
      "Epoch 6/1000\n",
      "1920/1920 [==============================] - 57s 30ms/step - loss: 1.5855 - acc: 0.5938 - val_loss: 1.7580 - val_acc: 0.5673\n",
      "Epoch 7/1000\n",
      "1920/1920 [==============================] - 57s 30ms/step - loss: 1.4678 - acc: 0.6026 - val_loss: 1.5447 - val_acc: 0.5286\n",
      "Epoch 8/1000\n",
      "1920/1920 [==============================] - 57s 30ms/step - loss: 1.3741 - acc: 0.5984 - val_loss: 1.6120 - val_acc: 0.5449\n",
      "Epoch 9/1000\n",
      "1920/1920 [==============================] - 57s 30ms/step - loss: 1.3127 - acc: 0.6083 - val_loss: 1.5338 - val_acc: 0.4796\n",
      "Epoch 10/1000\n",
      "1920/1920 [==============================] - 57s 30ms/step - loss: 1.2637 - acc: 0.6089 - val_loss: 1.5808 - val_acc: 0.4510\n",
      "Epoch 11/1000\n",
      "1920/1920 [==============================] - 57s 29ms/step - loss: 1.2175 - acc: 0.6146 - val_loss: 1.4673 - val_acc: 0.5327\n",
      "Epoch 12/1000\n",
      "1920/1920 [==============================] - 56s 29ms/step - loss: 1.1829 - acc: 0.6219 - val_loss: 1.3685 - val_acc: 0.4429\n",
      "Epoch 13/1000\n",
      "1920/1920 [==============================] - 57s 30ms/step - loss: 1.1559 - acc: 0.6156 - val_loss: 1.4373 - val_acc: 0.5265\n",
      "Epoch 14/1000\n",
      "1920/1920 [==============================] - 56s 29ms/step - loss: 1.1334 - acc: 0.6214 - val_loss: 1.3954 - val_acc: 0.4592\n",
      "Epoch 15/1000\n",
      "1920/1920 [==============================] - 57s 30ms/step - loss: 1.1107 - acc: 0.6203 - val_loss: 1.5102 - val_acc: 0.4837\n",
      "Epoch 16/1000\n",
      "1920/1920 [==============================] - 57s 30ms/step - loss: 1.1120 - acc: 0.6271 - val_loss: 1.4068 - val_acc: 0.4265\n",
      "Epoch 17/1000\n",
      "1920/1920 [==============================] - 57s 30ms/step - loss: 1.0844 - acc: 0.6250 - val_loss: 1.4603 - val_acc: 0.4327\n",
      "Epoch 18/1000\n",
      "1920/1920 [==============================] - 57s 30ms/step - loss: 1.0746 - acc: 0.6307 - val_loss: 1.3733 - val_acc: 0.3571\n",
      "Epoch 19/1000\n",
      "1920/1920 [==============================] - 57s 30ms/step - loss: 1.0547 - acc: 0.6333 - val_loss: 1.4691 - val_acc: 0.4122\n",
      "Epoch 20/1000\n",
      "1920/1920 [==============================] - 56s 29ms/step - loss: 1.0369 - acc: 0.6422 - val_loss: 1.4342 - val_acc: 0.4653\n",
      "Epoch 21/1000\n",
      "1920/1920 [==============================] - 56s 29ms/step - loss: 1.0277 - acc: 0.6401 - val_loss: 1.4740 - val_acc: 0.4347\n",
      "Epoch 22/1000\n",
      "1920/1920 [==============================] - 56s 29ms/step - loss: 1.0137 - acc: 0.6391 - val_loss: 1.4523 - val_acc: 0.4367\n",
      "Epoch 23/1000\n",
      "1920/1920 [==============================] - 56s 29ms/step - loss: 1.0019 - acc: 0.6469 - val_loss: 1.5211 - val_acc: 0.4061\n",
      "Epoch 24/1000\n",
      "1920/1920 [==============================] - 56s 29ms/step - loss: 0.9998 - acc: 0.6490 - val_loss: 1.3882 - val_acc: 0.4347\n",
      "Epoch 25/1000\n",
      "1920/1920 [==============================] - 56s 29ms/step - loss: 0.9911 - acc: 0.6469 - val_loss: 1.5239 - val_acc: 0.3918\n",
      "Epoch 26/1000\n",
      "1920/1920 [==============================] - 56s 29ms/step - loss: 0.9787 - acc: 0.6578 - val_loss: 1.4153 - val_acc: 0.3878\n",
      "Epoch 27/1000\n",
      "1920/1920 [==============================] - 55s 29ms/step - loss: 0.9747 - acc: 0.6589 - val_loss: 1.4299 - val_acc: 0.4245\n",
      "Epoch 28/1000\n",
      "1920/1920 [==============================] - 56s 29ms/step - loss: 0.9736 - acc: 0.6536 - val_loss: 1.5942 - val_acc: 0.4367\n",
      "Epoch 29/1000\n",
      "1920/1920 [==============================] - 56s 29ms/step - loss: 0.9650 - acc: 0.6688 - val_loss: 1.5251 - val_acc: 0.4265\n",
      "Epoch 30/1000\n",
      "1920/1920 [==============================] - 55s 29ms/step - loss: 0.9440 - acc: 0.6599 - val_loss: 1.5537 - val_acc: 0.4122\n",
      "Epoch 31/1000\n",
      "1920/1920 [==============================] - 57s 30ms/step - loss: 0.9491 - acc: 0.6656 - val_loss: 1.3646 - val_acc: 0.4347\n",
      "Epoch 32/1000\n",
      "1920/1920 [==============================] - 57s 30ms/step - loss: 0.9444 - acc: 0.6661 - val_loss: 1.4936 - val_acc: 0.4735\n",
      "Epoch 33/1000\n",
      "1920/1920 [==============================] - 56s 29ms/step - loss: 0.9343 - acc: 0.6729 - val_loss: 1.7852 - val_acc: 0.4265\n",
      "Epoch 34/1000\n",
      "1920/1920 [==============================] - 56s 29ms/step - loss: 0.9299 - acc: 0.6833 - val_loss: 1.4341 - val_acc: 0.4633\n",
      "Epoch 35/1000\n",
      "1920/1920 [==============================] - 56s 29ms/step - loss: 0.9242 - acc: 0.6781 - val_loss: 1.5805 - val_acc: 0.4469\n",
      "Epoch 36/1000\n",
      "1920/1920 [==============================] - 56s 29ms/step - loss: 0.9236 - acc: 0.6813 - val_loss: 1.4491 - val_acc: 0.4102\n",
      "Epoch 37/1000\n",
      "1920/1920 [==============================] - 57s 30ms/step - loss: 0.9130 - acc: 0.6943 - val_loss: 1.4574 - val_acc: 0.4633\n",
      "Epoch 38/1000\n",
      "1920/1920 [==============================] - 56s 29ms/step - loss: 0.9166 - acc: 0.6849 - val_loss: 1.6751 - val_acc: 0.4204\n",
      "Epoch 39/1000\n",
      "1920/1920 [==============================] - 56s 29ms/step - loss: 0.9050 - acc: 0.6922 - val_loss: 1.5449 - val_acc: 0.4143\n",
      "Epoch 40/1000\n",
      "1920/1920 [==============================] - 55s 29ms/step - loss: 0.8949 - acc: 0.6953 - val_loss: 1.7588 - val_acc: 0.4510\n",
      "Epoch 41/1000\n",
      "1920/1920 [==============================] - 56s 29ms/step - loss: 0.8941 - acc: 0.6958 - val_loss: 1.5023 - val_acc: 0.4612\n",
      "Epoch 42/1000\n",
      "1920/1920 [==============================] - 55s 29ms/step - loss: 0.8914 - acc: 0.7036 - val_loss: 1.4748 - val_acc: 0.4694\n",
      "Epoch 43/1000\n",
      "1920/1920 [==============================] - 55s 29ms/step - loss: 0.8907 - acc: 0.6917 - val_loss: 1.7551 - val_acc: 0.4163\n",
      "Epoch 44/1000\n",
      "1920/1920 [==============================] - 56s 29ms/step - loss: 0.8814 - acc: 0.7010 - val_loss: 1.6201 - val_acc: 0.4245\n",
      "Epoch 45/1000\n",
      "1920/1920 [==============================] - 55s 29ms/step - loss: 0.8743 - acc: 0.7057 - val_loss: 1.7601 - val_acc: 0.4510\n",
      "Epoch 46/1000\n",
      "1920/1920 [==============================] - 55s 29ms/step - loss: 0.8758 - acc: 0.7057 - val_loss: 1.7597 - val_acc: 0.4184\n",
      "Epoch 47/1000\n",
      "1920/1920 [==============================] - 55s 29ms/step - loss: 0.8687 - acc: 0.7016 - val_loss: 1.5782 - val_acc: 0.4061\n",
      "Epoch 48/1000\n",
      "1920/1920 [==============================] - 56s 29ms/step - loss: 0.8617 - acc: 0.7135 - val_loss: 1.6889 - val_acc: 0.4204\n",
      "Epoch 49/1000\n",
      "1920/1920 [==============================] - 55s 29ms/step - loss: 0.8655 - acc: 0.7036 - val_loss: 1.6427 - val_acc: 0.4531\n",
      "Epoch 50/1000\n",
      "1920/1920 [==============================] - 55s 29ms/step - loss: 0.8574 - acc: 0.7068 - val_loss: 1.4782 - val_acc: 0.4592\n",
      "Epoch 51/1000\n",
      "1920/1920 [==============================] - 56s 29ms/step - loss: 0.8505 - acc: 0.7094 - val_loss: 1.6809 - val_acc: 0.4633\n",
      "Epoch 52/1000\n",
      "1920/1920 [==============================] - 56s 29ms/step - loss: 0.8444 - acc: 0.7120 - val_loss: 1.6722 - val_acc: 0.4408\n",
      "Epoch 53/1000\n",
      "1920/1920 [==============================] - 56s 29ms/step - loss: 0.8450 - acc: 0.7234 - val_loss: 1.7634 - val_acc: 0.4184\n",
      "Epoch 54/1000\n",
      "1920/1920 [==============================] - 56s 29ms/step - loss: 0.8377 - acc: 0.7276 - val_loss: 1.5266 - val_acc: 0.4469\n",
      "Epoch 55/1000\n",
      "1920/1920 [==============================] - 57s 30ms/step - loss: 0.8346 - acc: 0.7297 - val_loss: 1.7568 - val_acc: 0.4082\n",
      "Epoch 56/1000\n",
      "1920/1920 [==============================] - 57s 30ms/step - loss: 0.8227 - acc: 0.7344 - val_loss: 1.7565 - val_acc: 0.4531\n",
      "Epoch 57/1000\n",
      "1920/1920 [==============================] - 57s 30ms/step - loss: 0.8319 - acc: 0.7266 - val_loss: 1.7671 - val_acc: 0.4449\n",
      "Epoch 58/1000\n",
      "1920/1920 [==============================] - 57s 30ms/step - loss: 0.8236 - acc: 0.7271 - val_loss: 1.7073 - val_acc: 0.4408\n",
      "Epoch 59/1000\n",
      "1920/1920 [==============================] - 57s 30ms/step - loss: 0.8216 - acc: 0.7328 - val_loss: 1.7552 - val_acc: 0.4633\n",
      "Epoch 60/1000\n",
      "1920/1920 [==============================] - 55s 29ms/step - loss: 0.8198 - acc: 0.7313 - val_loss: 1.7170 - val_acc: 0.4347\n",
      "Epoch 61/1000\n",
      "1920/1920 [==============================] - 56s 29ms/step - loss: 0.8075 - acc: 0.7328 - val_loss: 1.9495 - val_acc: 0.4306\n",
      "Epoch 62/1000\n",
      "1920/1920 [==============================] - 56s 29ms/step - loss: 0.8104 - acc: 0.7370 - val_loss: 1.7893 - val_acc: 0.4367\n",
      "Epoch 63/1000\n",
      "1920/1920 [==============================] - 56s 29ms/step - loss: 0.8078 - acc: 0.7380 - val_loss: 1.7608 - val_acc: 0.4347\n",
      "Epoch 64/1000\n",
      "1920/1920 [==============================] - 56s 29ms/step - loss: 0.8086 - acc: 0.7349 - val_loss: 1.9971 - val_acc: 0.4204\n",
      "Epoch 65/1000\n",
      "1920/1920 [==============================] - 56s 29ms/step - loss: 0.8023 - acc: 0.7318 - val_loss: 1.7223 - val_acc: 0.4265\n",
      "Epoch 66/1000\n",
      "1920/1920 [==============================] - 57s 30ms/step - loss: 0.7944 - acc: 0.7406 - val_loss: 1.7358 - val_acc: 0.4469\n",
      "Epoch 67/1000\n",
      "1920/1920 [==============================] - 56s 29ms/step - loss: 0.7902 - acc: 0.7385 - val_loss: 1.9587 - val_acc: 0.4490\n",
      "Epoch 68/1000\n",
      "1920/1920 [==============================] - 56s 29ms/step - loss: 0.7888 - acc: 0.7438 - val_loss: 1.7639 - val_acc: 0.4306\n",
      "Epoch 69/1000\n",
      "1920/1920 [==============================] - 55s 29ms/step - loss: 0.7947 - acc: 0.7464 - val_loss: 1.7733 - val_acc: 0.4653\n",
      "Epoch 70/1000\n",
      "1920/1920 [==============================] - 56s 29ms/step - loss: 0.7831 - acc: 0.7474 - val_loss: 1.8052 - val_acc: 0.4612\n",
      "Epoch 71/1000\n",
      "1920/1920 [==============================] - 56s 29ms/step - loss: 0.7766 - acc: 0.7568 - val_loss: 1.7141 - val_acc: 0.4510\n",
      "Epoch 72/1000\n",
      "1920/1920 [==============================] - 55s 29ms/step - loss: 0.7744 - acc: 0.7547 - val_loss: 1.6782 - val_acc: 0.4122\n",
      "Epoch 73/1000\n",
      "1920/1920 [==============================] - 56s 29ms/step - loss: 0.7764 - acc: 0.7490 - val_loss: 1.9241 - val_acc: 0.4163\n",
      "Epoch 74/1000\n",
      "1920/1920 [==============================] - 55s 29ms/step - loss: 0.7694 - acc: 0.7682 - val_loss: 1.7488 - val_acc: 0.4265\n",
      "Epoch 75/1000\n",
      "1920/1920 [==============================] - 56s 29ms/step - loss: 0.7594 - acc: 0.7604 - val_loss: 1.8738 - val_acc: 0.4510\n",
      "Epoch 76/1000\n",
      "1920/1920 [==============================] - 57s 30ms/step - loss: 0.7551 - acc: 0.7589 - val_loss: 2.0071 - val_acc: 0.4163\n",
      "Epoch 77/1000\n",
      "  71/1920 [>.............................] - ETA: 49s - loss: 0.7493 - acc: 0.8028"
     ]
    },
    {
     "ename": "KeyboardInterrupt",
     "evalue": "",
     "output_type": "error",
     "traceback": [
      "\u001b[0;31m---------------------------------------------------------------------------\u001b[0m",
      "\u001b[0;31mKeyboardInterrupt\u001b[0m                         Traceback (most recent call last)",
      "\u001b[0;32m<ipython-input-20-4e1f95180f98>\u001b[0m in \u001b[0;36m<module>\u001b[0;34m()\u001b[0m\n\u001b[0;32m----> 1\u001b[0;31m \u001b[0mhistory\u001b[0m \u001b[0;34m=\u001b[0m \u001b[0mmodel\u001b[0m\u001b[0;34m.\u001b[0m\u001b[0mfit\u001b[0m\u001b[0;34m(\u001b[0m\u001b[0mx\u001b[0m\u001b[0;34m=\u001b[0m\u001b[0;34m[\u001b[0m\u001b[0mtrainX_blue_normalized\u001b[0m\u001b[0;34m,\u001b[0m \u001b[0mtrainX_red_normalized\u001b[0m\u001b[0;34m]\u001b[0m\u001b[0;34m,\u001b[0m \u001b[0my\u001b[0m\u001b[0;34m=\u001b[0m\u001b[0mtrainY\u001b[0m\u001b[0;34m,\u001b[0m \u001b[0mbatch_size\u001b[0m\u001b[0;34m=\u001b[0m\u001b[0;36m1\u001b[0m\u001b[0;34m,\u001b[0m \u001b[0mepochs\u001b[0m\u001b[0;34m=\u001b[0m\u001b[0;36m1000\u001b[0m\u001b[0;34m,\u001b[0m \u001b[0mverbose\u001b[0m\u001b[0;34m=\u001b[0m\u001b[0;36m1\u001b[0m\u001b[0;34m,\u001b[0m \u001b[0mvalidation_data\u001b[0m\u001b[0;34m=\u001b[0m\u001b[0;34m(\u001b[0m\u001b[0;34m[\u001b[0m\u001b[0mvalX_blue\u001b[0m\u001b[0;34m,\u001b[0m \u001b[0mvalX_red\u001b[0m\u001b[0;34m]\u001b[0m\u001b[0;34m,\u001b[0m \u001b[0mvalY\u001b[0m\u001b[0;34m)\u001b[0m\u001b[0;34m,\u001b[0m \u001b[0mcallbacks\u001b[0m\u001b[0;34m=\u001b[0m\u001b[0mcallbacks\u001b[0m\u001b[0;34m,\u001b[0m \u001b[0mclass_weight\u001b[0m\u001b[0;34m=\u001b[0m\u001b[0mclass_weights\u001b[0m\u001b[0;34m)\u001b[0m\u001b[0;34m\u001b[0m\u001b[0m\n\u001b[0m",
      "\u001b[0;32m/home/ubuntu/.local/lib/python2.7/site-packages/keras/engine/training.pyc\u001b[0m in \u001b[0;36mfit\u001b[0;34m(self, x, y, batch_size, epochs, verbose, callbacks, validation_split, validation_data, shuffle, class_weight, sample_weight, initial_epoch, steps_per_epoch, validation_steps, **kwargs)\u001b[0m\n\u001b[1;32m   1035\u001b[0m                                         \u001b[0minitial_epoch\u001b[0m\u001b[0;34m=\u001b[0m\u001b[0minitial_epoch\u001b[0m\u001b[0;34m,\u001b[0m\u001b[0;34m\u001b[0m\u001b[0m\n\u001b[1;32m   1036\u001b[0m                                         \u001b[0msteps_per_epoch\u001b[0m\u001b[0;34m=\u001b[0m\u001b[0msteps_per_epoch\u001b[0m\u001b[0;34m,\u001b[0m\u001b[0;34m\u001b[0m\u001b[0m\n\u001b[0;32m-> 1037\u001b[0;31m                                         validation_steps=validation_steps)\n\u001b[0m\u001b[1;32m   1038\u001b[0m \u001b[0;34m\u001b[0m\u001b[0m\n\u001b[1;32m   1039\u001b[0m     def evaluate(self, x=None, y=None,\n",
      "\u001b[0;32m/home/ubuntu/.local/lib/python2.7/site-packages/keras/engine/training_arrays.pyc\u001b[0m in \u001b[0;36mfit_loop\u001b[0;34m(model, f, ins, out_labels, batch_size, epochs, verbose, callbacks, val_f, val_ins, shuffle, callback_metrics, initial_epoch, steps_per_epoch, validation_steps)\u001b[0m\n\u001b[1;32m    197\u001b[0m                     \u001b[0mins_batch\u001b[0m\u001b[0;34m[\u001b[0m\u001b[0mi\u001b[0m\u001b[0;34m]\u001b[0m \u001b[0;34m=\u001b[0m \u001b[0mins_batch\u001b[0m\u001b[0;34m[\u001b[0m\u001b[0mi\u001b[0m\u001b[0;34m]\u001b[0m\u001b[0;34m.\u001b[0m\u001b[0mtoarray\u001b[0m\u001b[0;34m(\u001b[0m\u001b[0;34m)\u001b[0m\u001b[0;34m\u001b[0m\u001b[0m\n\u001b[1;32m    198\u001b[0m \u001b[0;34m\u001b[0m\u001b[0m\n\u001b[0;32m--> 199\u001b[0;31m                 \u001b[0mouts\u001b[0m \u001b[0;34m=\u001b[0m \u001b[0mf\u001b[0m\u001b[0;34m(\u001b[0m\u001b[0mins_batch\u001b[0m\u001b[0;34m)\u001b[0m\u001b[0;34m\u001b[0m\u001b[0m\n\u001b[0m\u001b[1;32m    200\u001b[0m                 \u001b[0mouts\u001b[0m \u001b[0;34m=\u001b[0m \u001b[0mto_list\u001b[0m\u001b[0;34m(\u001b[0m\u001b[0mouts\u001b[0m\u001b[0;34m)\u001b[0m\u001b[0;34m\u001b[0m\u001b[0m\n\u001b[1;32m    201\u001b[0m                 \u001b[0;32mfor\u001b[0m \u001b[0ml\u001b[0m\u001b[0;34m,\u001b[0m \u001b[0mo\u001b[0m \u001b[0;32min\u001b[0m \u001b[0mzip\u001b[0m\u001b[0;34m(\u001b[0m\u001b[0mout_labels\u001b[0m\u001b[0;34m,\u001b[0m \u001b[0mouts\u001b[0m\u001b[0;34m)\u001b[0m\u001b[0;34m:\u001b[0m\u001b[0;34m\u001b[0m\u001b[0m\n",
      "\u001b[0;32m/home/ubuntu/.local/lib/python2.7/site-packages/keras/backend/tensorflow_backend.pyc\u001b[0m in \u001b[0;36m__call__\u001b[0;34m(self, inputs)\u001b[0m\n\u001b[1;32m   2664\u001b[0m                 \u001b[0;32mreturn\u001b[0m \u001b[0mself\u001b[0m\u001b[0;34m.\u001b[0m\u001b[0m_legacy_call\u001b[0m\u001b[0;34m(\u001b[0m\u001b[0minputs\u001b[0m\u001b[0;34m)\u001b[0m\u001b[0;34m\u001b[0m\u001b[0m\n\u001b[1;32m   2665\u001b[0m \u001b[0;34m\u001b[0m\u001b[0m\n\u001b[0;32m-> 2666\u001b[0;31m             \u001b[0;32mreturn\u001b[0m \u001b[0mself\u001b[0m\u001b[0;34m.\u001b[0m\u001b[0m_call\u001b[0m\u001b[0;34m(\u001b[0m\u001b[0minputs\u001b[0m\u001b[0;34m)\u001b[0m\u001b[0;34m\u001b[0m\u001b[0m\n\u001b[0m\u001b[1;32m   2667\u001b[0m         \u001b[0;32melse\u001b[0m\u001b[0;34m:\u001b[0m\u001b[0;34m\u001b[0m\u001b[0m\n\u001b[1;32m   2668\u001b[0m             \u001b[0;32mif\u001b[0m \u001b[0mpy_any\u001b[0m\u001b[0;34m(\u001b[0m\u001b[0mis_tensor\u001b[0m\u001b[0;34m(\u001b[0m\u001b[0mx\u001b[0m\u001b[0;34m)\u001b[0m \u001b[0;32mfor\u001b[0m \u001b[0mx\u001b[0m \u001b[0;32min\u001b[0m \u001b[0minputs\u001b[0m\u001b[0;34m)\u001b[0m\u001b[0;34m:\u001b[0m\u001b[0;34m\u001b[0m\u001b[0m\n",
      "\u001b[0;32m/home/ubuntu/.local/lib/python2.7/site-packages/keras/backend/tensorflow_backend.pyc\u001b[0m in \u001b[0;36m_call\u001b[0;34m(self, inputs)\u001b[0m\n\u001b[1;32m   2634\u001b[0m                                 \u001b[0msymbol_vals\u001b[0m\u001b[0;34m,\u001b[0m\u001b[0;34m\u001b[0m\u001b[0m\n\u001b[1;32m   2635\u001b[0m                                 session)\n\u001b[0;32m-> 2636\u001b[0;31m         \u001b[0mfetched\u001b[0m \u001b[0;34m=\u001b[0m \u001b[0mself\u001b[0m\u001b[0;34m.\u001b[0m\u001b[0m_callable_fn\u001b[0m\u001b[0;34m(\u001b[0m\u001b[0;34m*\u001b[0m\u001b[0marray_vals\u001b[0m\u001b[0;34m)\u001b[0m\u001b[0;34m\u001b[0m\u001b[0m\n\u001b[0m\u001b[1;32m   2637\u001b[0m         \u001b[0;32mreturn\u001b[0m \u001b[0mfetched\u001b[0m\u001b[0;34m[\u001b[0m\u001b[0;34m:\u001b[0m\u001b[0mlen\u001b[0m\u001b[0;34m(\u001b[0m\u001b[0mself\u001b[0m\u001b[0;34m.\u001b[0m\u001b[0moutputs\u001b[0m\u001b[0;34m)\u001b[0m\u001b[0;34m]\u001b[0m\u001b[0;34m\u001b[0m\u001b[0m\n\u001b[1;32m   2638\u001b[0m \u001b[0;34m\u001b[0m\u001b[0m\n",
      "\u001b[0;32m/home/ubuntu/.local/lib/python2.7/site-packages/tensorflow/python/client/session.pyc\u001b[0m in \u001b[0;36m__call__\u001b[0;34m(self, *args, **kwargs)\u001b[0m\n\u001b[1;32m   1380\u001b[0m           ret = tf_session.TF_SessionRunCallable(\n\u001b[1;32m   1381\u001b[0m               \u001b[0mself\u001b[0m\u001b[0;34m.\u001b[0m\u001b[0m_session\u001b[0m\u001b[0;34m.\u001b[0m\u001b[0m_session\u001b[0m\u001b[0;34m,\u001b[0m \u001b[0mself\u001b[0m\u001b[0;34m.\u001b[0m\u001b[0m_handle\u001b[0m\u001b[0;34m,\u001b[0m \u001b[0margs\u001b[0m\u001b[0;34m,\u001b[0m \u001b[0mstatus\u001b[0m\u001b[0;34m,\u001b[0m\u001b[0;34m\u001b[0m\u001b[0m\n\u001b[0;32m-> 1382\u001b[0;31m               run_metadata_ptr)\n\u001b[0m\u001b[1;32m   1383\u001b[0m         \u001b[0;32mif\u001b[0m \u001b[0mrun_metadata\u001b[0m\u001b[0;34m:\u001b[0m\u001b[0;34m\u001b[0m\u001b[0m\n\u001b[1;32m   1384\u001b[0m           \u001b[0mproto_data\u001b[0m \u001b[0;34m=\u001b[0m \u001b[0mtf_session\u001b[0m\u001b[0;34m.\u001b[0m\u001b[0mTF_GetBuffer\u001b[0m\u001b[0;34m(\u001b[0m\u001b[0mrun_metadata_ptr\u001b[0m\u001b[0;34m)\u001b[0m\u001b[0;34m\u001b[0m\u001b[0m\n",
      "\u001b[0;31mKeyboardInterrupt\u001b[0m: "
     ]
    }
   ],
   "source": [
    "history = model.fit(x=[trainX_blue_normalized, trainX_red_normalized], y=trainY, batch_size=1, epochs=1000, verbose=1, validation_data=([valX_blue, valX_red], valY), callbacks=callbacks, class_weight=class_weights)"
   ]
  },
  {
   "cell_type": "markdown",
   "metadata": {},
   "source": [
    "## Read Logs file"
   ]
  },
  {
   "cell_type": "code",
   "execution_count": 41,
   "metadata": {},
   "outputs": [
    {
     "data": {
      "image/png": "[encoded data removed]",
      "text/plain": [
       "<Figure size 432x288 with 1 Axes>"
      ]
     },
     "metadata": {
      "needs_background": "light"
     },
     "output_type": "display_data"
    },
    {
     "data": {
      "image/png": "[encoded data removed]",
      "text/plain": [
       "<Figure size 432x288 with 1 Axes>"
      ]
     },
     "metadata": {
      "needs_background": "light"
     },
     "output_type": "display_data"
    },
    {
     "name": "stdout",
     "output_type": "stream",
     "text": [
      "best_epoch : 18\n"
     ]
    }
   ],
   "source": [
    "# Read logs file to look at loss curves and get best epoch\n",
    "\n",
    "with open(\"exp4/logs.csv\",'r') as f:\n",
    "    data_iter = csv.reader(f,delimiter = ',')\n",
    "    data = [data for data in data_iter]\n",
    "    \n",
    "train_loss = [float(line[2]) for line in data[1:]]\n",
    "val_loss = [float(line[3]) for line in data[1:]]\n",
    "\n",
    "plt.plot(train_loss)\n",
    "plt.show()\n",
    "\n",
    "plt.plot(val_loss)\n",
    "plt.show()\n",
    "\n",
    "print \"best_epoch : {}\".format(np.argmin(val_loss)+1)"
   ]
  }
 ],
 "metadata": {
  "kernelspec": {
   "display_name": "Python 2",
   "language": "python",
   "name": "python2"
  },
  "language_info": {
   "codemirror_mode": {
    "name": "ipython",
    "version": 2
   },
   "file_extension": ".py",
   "mimetype": "text/x-python",
   "name": "python",
   "nbconvert_exporter": "python",
   "pygments_lexer": "ipython2",
   "version": "2.7.15rc1"
  }
 },
 "nbformat": 4,
 "nbformat_minor": 2
}
