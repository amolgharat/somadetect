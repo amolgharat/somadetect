{
 "cells": [
  {
   "cell_type": "code",
   "execution_count": null,
   "metadata": {},
   "outputs": [],
   "source": [
    "from sklearn.metrics import confusion_matrix, recall_score, f1_score, precision_score\n",
    "from keras.models import load_model\n",
    "import numpy as np"
   ]
  },
  {
   "cell_type": "code",
   "execution_count": null,
   "metadata": {},
   "outputs": [],
   "source": [
    "def preprocess_val_data(X, mean_X, std_X):\n",
    "    \n",
    "    X = X.astype(float)\n",
    "    X -= mean_X\n",
    "    X /= std_X\n",
    "    return X\n",
    "\n",
    "def evaluate_model(model_path, valX, valY):\n",
    "    \"\"\"Evaluation function for the model.\n",
    "    \n",
    "    # Arguments\n",
    "        model_path: path to the trained model that is to be evaluated. Input size for the model is 240x320x3\n",
    "        valX: 4D numpy array containing images in the format NxHxWx3. Where \n",
    "            N is number of images, H is height of image and it should be 240 pixels, \n",
    "            W is width of image and it should be 320 pixels. \n",
    "        valY: 1D numpy array containing labels (0:'SCC_below_56', 1:'SCC_56-132', 2:'SCC_above_132') \n",
    "        for the images. array([1,2,0,0,....])\n",
    "    # Returns\n",
    "        confusion matrix, recall for each class, precision for each class and f1 score for each class\n",
    "    \n",
    "    \"\"\"\n",
    "    \n",
    "    mean_blue = np.array([0.35233836, 2.25305321, 9.56535592])\n",
    "    std_blue = np.array([ 3.85356075, 10.1685023 , 28.70528262])\n",
    "    mean_red = np.array([32.5874143 ,  3.37447883,  1.28614109])\n",
    "    std_red = np.array([51.23512265,  9.75799306,  4.83126132])\n",
    "    \n",
    "    valX_blue = valX[:,:,:320,:]\n",
    "    valX_red = valX[:,:,320:,:]\n",
    "    \n",
    "    valX_blue = preprocess_val_data(valX_blue, mean_blue, std_blue)\n",
    "    valX_red = preprocess_val_data(valX_red, mean_red, std_red)\n",
    "    \n",
    "    model = load_model(model_path)\n",
    "    y_prob = model.predict([valX_blue, valX_red])\n",
    "    y_pred = y_prob.argmax(axis=-1)\n",
    "    \n",
    "    conf_matrix = confusion_matrix(valY, y_pred)\n",
    "    recall = recall_score(valY, y_pred, average=None)\n",
    "    precision = precision_score(valY, y_pred, average=None)\n",
    "    f1 = f1_score(valY, y_pred, average=None)\n",
    "    \n",
    "    return conf_matrix, recall, precision, f1"
   ]
  }
 ],
 "metadata": {
  "kernelspec": {
   "display_name": "Python 2",
   "language": "python",
   "name": "python2"
  },
  "language_info": {
   "codemirror_mode": {
    "name": "ipython",
    "version": 2
   },
   "file_extension": ".py",
   "mimetype": "text/x-python",
   "name": "python",
   "nbconvert_exporter": "python",
   "pygments_lexer": "ipython2",
   "version": "2.7.15rc1"
  }
 },
 "nbformat": 4,
 "nbformat_minor": 2
}
